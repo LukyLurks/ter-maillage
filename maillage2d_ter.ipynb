{
 "cells": [
  {
   "cell_type": "markdown",
   "metadata": {
    "colab_type": "text",
    "id": "ozkn_i4CsV75"
   },
   "source": [
    "# Algorithmes évolutionnaires pour le maillage quadrangulaire\n",
    "\n",
    "### Objectif: Expérimenter avec les paramètres d'un algorithme évolutionnaire et étudier leur influence\n",
    "\n",
    "Il nous faut être en mesure de:\n",
    "- générer les points formant le conour d'une forme et des points intérieurs\n",
    "- former des maillages à partir de ces points\n",
    "- calculer la qualité des maillages\n",
    "- classer les maillages selon leur qualité\n",
    "- croiser les maillages de différentes manières\n",
    "- effectuer une mutation sur un maillage"
   ]
  },
  {
   "cell_type": "markdown",
   "metadata": {
    "colab_type": "text",
    "id": "9LAbQq94GBbd"
   },
   "source": [
    "## Exemple sur un polygone convexe\n",
    "\n",
    "Le code suivant génère des points du contours et intérieurs, et crée un maillage triangulaire."
   ]
  },
  {
   "cell_type": "code",
   "execution_count": 1,
   "metadata": {
    "colab": {
     "base_uri": "https://localhost:8080/",
     "height": 269
    },
    "colab_type": "code",
    "id": "Rw49aruWGzeW",
    "outputId": "ca8ab3b0-c4d3-41d4-ddc2-cdc44c5e364e"
   },
   "outputs": [
    {
     "data": {
      "text/plain": [
       "<Figure size 640x480 with 1 Axes>"
      ]
     },
     "metadata": {},
     "output_type": "display_data"
    }
   ],
   "source": [
    "# -*- coding: utf-8 -*-\n",
    "\n",
    "###############################################################################\n",
    "# IMPORTS\n",
    "###############################################################################\n",
    "\n",
    "import matplotlib.pyplot as plt       # voir/tracer les figures\n",
    "import numpy as np                    # manipuler les tableaux de points\n",
    "import random                         # générer les points dans les figures\n",
    "from scipy.spatial import Delaunay    # générer les maillages\n",
    "\n",
    "###############################################################################\n",
    "# METHODES\n",
    "###############################################################################\n",
    "\n",
    "## POLYGONE CONVEXE ##\n",
    "\n",
    "#Fonction créant un point aléatoirement sur un segment\n",
    "#Sous-fonction de genererContourPoly et genererCentrePoly\n",
    "def randomPointSegment(A,B,points):\n",
    "\t#Vérifie si on ne divise pas par zéro pour le coefficient directeur du segment\n",
    "\tcoefficient = 0.0 + (points[B][0]-points[A][0])\n",
    "\tif coefficient == 0:\n",
    "\t\tcoefficient = 1\n",
    "\t\tC=points[A][0]\n",
    "\t\tD=random.uniform(points[A][1],points[B][1])\n",
    "\telse :\n",
    "\t\tcoefficient = (points[B][1]-points[A][1])/coefficient\n",
    "\t\tb = points[A][1] - coefficient*points[A][0]\n",
    "\t\tC=random.uniform(points[A][0],points[B][0])\n",
    "\t\tD = coefficient*C+b\n",
    "\treturn [C,D]\n",
    "\n",
    "#Fonction de génération des points sur les côtés\n",
    "def genererContourPoly(nbPointTour,points):\n",
    "\t#Contour\n",
    "\tj=0\n",
    "\tnbPoint = len(points)\n",
    "\twhile j < nbPoint:\n",
    "\t\tif ( j == (nbPoint-1)):\n",
    "\t\t\ti = 0\n",
    "\t\t\twhile i < nbPointTour:\n",
    "\t\t\t\tpoints = np.concatenate((points,[randomPointSegment(0,j,points)]), axis=0)\n",
    "\t\t\t\ti = i + 1\n",
    "\t\telse:\n",
    "\t\t\ti = 0\n",
    "\t\t\twhile i < nbPointTour:\n",
    "\t\t\t\tpoints = np.concatenate((points,[randomPointSegment(j,j+1,points)]), axis=0)\n",
    "\t\t\t\ti = i + 1\n",
    "\t\tj=j+1\n",
    "\treturn points\n",
    "\n",
    "#Fonction de génération des points \n",
    "def genererCentrePoly(nbPointCentre, pointsContour):\n",
    "  # Ancienne fonction, on la garde au cas où\n",
    "  \"\"\"  \n",
    "  def genererCentrePoly(nbPointCentre, fichierPoints):\n",
    "    #centre\n",
    "    points = lireFichierPoints(fichierPoints)\n",
    "    k=0\n",
    "    while k < nbPointCentre:\n",
    "      A= random.randint(0,len(points)-1)\n",
    "      B= random.randint(0,len(points)-1)\n",
    "      points = np.concatenate((points,[randomPointSegment(A,B,points)]), axis=0)\n",
    "      k=k+1\n",
    "    ecrireFichierPoints(points, fichierPoints)\n",
    "  \"\"\"\n",
    "  ptsCentre = np.zeros(shape=(nbPointCentre, 2))\n",
    "  for k in range(nbPointCentre):\n",
    "\t\tA= random.randint(0,len(pointsContour)-1)\n",
    "\t\tB= random.randint(0,len(pointsContour)-1)\n",
    "\t\tptsCentre[k] = [A, B]\n",
    "\n",
    "  return ptsCentre\n",
    "\n",
    "def afficherMaillage(points):\n",
    "\t#Code pour le afficherMaillage\n",
    "\ttri = Delaunay(points)\n",
    "\tplt.triplot(points[:,0], points[:,1], tri.simplices.copy())\n",
    "\tplt.plot(points[:,0], points[:,1], 'o')\n",
    "\tplt.show()\n",
    "\n",
    "###############################################################################\n",
    "# Exemple de tracé\n",
    "###############################################################################\n",
    "\n",
    "## Paramètres ##\n",
    "#points est initialisé avec les sommets de la figure\n",
    "points = np.array([[-20.0, -10.0], [-30.0, 40.0],[-10.0,60.0],[50.0, 10.0],[30.0, -15.0]])\n",
    "\n",
    "#nombre de points générés sur chaque segment \n",
    "nbPointTour = 5\n",
    "\n",
    "#nombre de points générés dans la figure\n",
    "nbPointCentre = 20\n",
    "\n",
    "## Exécution ##\n",
    "contourPoly = genererContourPoly(nbPointTour,points)\n",
    "centrePoly = genererCentrePoly(nbPointCentre, contourPoly)\n",
    "pointsPoly = np.concatenate((contourPoly, centrePoly), axis=0)\n",
    "afficherMaillage(pointsPoly)"
   ]
  },
  {
   "cell_type": "markdown",
   "metadata": {
    "colab_type": "text",
    "id": "UmlP7ZxcheP_"
   },
   "source": [
    "## Exemple sur un cercle discrétisé\n",
    "\n",
    "Le code suivant génère un polygone régulier pour approximer un cercle unité, des points aléatoirement répartis sur le disque, et un maillage triangulaire."
   ]
  },
  {
   "cell_type": "code",
   "execution_count": 3,
   "metadata": {
    "colab": {
     "base_uri": "https://localhost:8080/",
     "height": 269
    },
    "colab_type": "code",
    "id": "P7Ag39UUh-G5",
    "outputId": "5fba1597-677c-44f6-9917-cec40cecd72f"
   },
   "outputs": [
    {
     "data": {
      "image/png": "[encoded data removed]",
      "text/plain": [
       "<Figure size 432x288 with 1 Axes>"
      ]
     },
     "metadata": {
      "needs_background": "light"
     },
     "output_type": "display_data"
    }
   ],
   "source": [
    "###############################################################################\n",
    "# IMPORTS\n",
    "###############################################################################\n",
    "\n",
    "from math import pi, cos, sin, acos   # générer les points du cercle\n",
    "\n",
    "###############################################################################\n",
    "# METHODES\n",
    "###############################################################################\n",
    "\n",
    "## CERCLE DISCRET ##\n",
    "\n",
    "# Génère les points formant le contour du cercle\n",
    "def genererContourCercle(resolution):\n",
    "  \"\"\"\n",
    "  Entrée: résolution (nbre de pts de la discrétisation du cercle)\n",
    "  Sortie: numpy.array contenant l'ensemble points de la\n",
    "  discrétisation du cercle\n",
    "\n",
    "  On génère les points du contour sur un quadrant de facon régulière, \n",
    "  puis on place les symétriques en manipulant les coordonnées:\n",
    "            _____\n",
    "          /   |   \\ \n",
    "        /     |     \\ \n",
    "      /       |       \\ \n",
    "    /         |         \\ \n",
    "   | (-y,x)   |   (x,y)  |\n",
    "   |----------+----------|\n",
    "   | (-x,-y)  | (y,-x)   |\n",
    "    \\         |         /\n",
    "      \\       |       / \n",
    "        \\     |     / \n",
    "          \\ __|__ /  \n",
    "  C'est juste pour économiser du temps de calcul sur les cos() et sin(),\n",
    "  peut-être pas un gain significatif\n",
    "  \"\"\"\n",
    "  \n",
    "  # On initialise le tableau qui contiendra les points\n",
    "  ptsContourQuadrant = np.zeros(shape=(resolution*4, 2))\n",
    "\n",
    "  # On va faire varier l'angle entre 0 et pi/4 (45 deg)\n",
    "  increment = (pi/2) / resolution\n",
    "  angle = -increment\n",
    "  for i in range (resolution):\n",
    "    angle += increment\n",
    "    x = cos(angle)\n",
    "    y = sin(angle)\n",
    "    ptsContourQuadrant[i] = [x, y]                #top-right\n",
    "    ptsContourQuadrant[resolution+i] = [-y, x]    #top-left\n",
    "    ptsContourQuadrant[2*resolution+i] = [-x, -y] #bottom-left\n",
    "    ptsContourQuadrant[3*resolution+i] = [y, -x]  #bottom-right\n",
    "\n",
    "  return ptsContourQuadrant\n",
    "\n",
    "# Sous-fonction de genererInterieurCercle, pour un seul point\n",
    "def genererPointInterieur(angleMin, angleMax):\n",
    "  \"\"\"\n",
    "  Entrée: intervalle d'angle pour des coordonnées polaires\n",
    "  Sortie: coordonnées d'un point quelconque sur une portion du disque unité\n",
    "  \"\"\"\n",
    "  angle = random.uniform(angleMin, angleMax)\n",
    "  distance = random.random()\n",
    "  return [distance * cos(angle), distance * sin(angle)]\n",
    "\n",
    "# Génère des points aléatoirement dans un disque\n",
    "def genererInterieurCercle(nbPointsInterieurs):\n",
    "  # On initialise le tableau qui contiendra les points avec des zéros\n",
    "  ptsInterieurs = np.zeros(shape=(nbPointsInterieurs, 2))\n",
    "\n",
    "  for i in range(nbPointsInterieurs):\n",
    "    ptsInterieurs[i] = genererPointInterieur(0, 2*pi)\n",
    "\n",
    "  return ptsInterieurs\n",
    "\n",
    "###############################################################################\n",
    "# Exemple de tracé\n",
    "###############################################################################\n",
    "\n",
    "## Paramètres ##\n",
    "# Nombre de points du contour du cercle par quadrant\n",
    "resolutionQuadrant = 5\n",
    "# Nombre de points intérieurs au cercle\n",
    "nbPtsDansCercle = 25\n",
    "\n",
    "## Exécution ##\n",
    "contourCercle = genererContourCercle(resolutionQuadrant)\n",
    "centreCercle = genererInterieurCercle(nbPtsDansCercle)\n",
    "pointsCercle = np.concatenate((contourCercle, centreCercle), axis=0)\n",
    "afficherMaillage(pointsCercle)\n"
   ]
  },
  {
   "cell_type": "markdown",
   "metadata": {
    "colab_type": "text",
    "id": "n9ZP0L3Bir_b"
   },
   "source": [
    "## Qualité du maillage triangulaire\n",
    "\n",
    "Le code suivant permet de donner un critère sur la qualité d'un triangle en considérant l'angle `θ` tel que `θ - 90°` est maximal. La qualité du maillage est la moyenne arithmétique de celle de tous les triangles."
   ]
  },
  {
   "cell_type": "code",
   "execution_count": 4,
   "metadata": {
    "colab": {
     "base_uri": "https://localhost:8080/",
     "height": 52
    },
    "colab_type": "code",
    "id": "V9M0D5RgiyQ0",
    "outputId": "924289de-c5f7-478c-ceb5-1d0af3466ff9"
   },
   "outputs": [
    {
     "name": "stdout",
     "output_type": "stream",
     "text": [
      "Qualite du maillage pour le polygone : \n",
      "0.735269222385\n",
      "Qualité du maillage pour le cercle : \n",
      "0.643894107958\n"
     ]
    }
   ],
   "source": [
    "###############################################################################\n",
    "# METHODES\n",
    "###############################################################################\n",
    "\n",
    "# Sous-fonction pour qualiteTriangle\n",
    "def calculerAngle(a, b, c):\n",
    "  \"\"\"\n",
    "  Entrée: 3 points A[xa, ya], B[xb, yb], C[xc, yc]\n",
    "  Sortie: angle (AB, AC) en radians\n",
    "\n",
    "  - On utilise les coordonnées de facon vectorielle: \n",
    "  AB = B - A = [xb-xa, yb-ya] etc.\n",
    "  - On utilise la formule du produit scalaire avec cosinus:\n",
    "  AB.AC = ||AB||.||AC||.cos(AB,AC) => (AB,AC) = arccos(AB.AC/||AB||.||AC||)\n",
    "  \"\"\"\n",
    "  ab = b - a\n",
    "  ac = c - a\n",
    "  prodScal = np.dot(ab,ac)\n",
    "  prodNorm = np.linalg.norm(ab) * np.linalg.norm(ac)\n",
    "  return acos(prodScal/prodNorm)\n",
    "\n",
    "\n",
    "# Qualité d'un seul triangle\n",
    "def qualiteTriangle(a, b, c):\n",
    "  \"\"\"\n",
    "  Entrée: 3 angles a, b, et c en radians\n",
    "  Sortie: float dans [0,1] en fonction du max(angle - angle_droit)\n",
    "  \"\"\"\n",
    "  ecartAngle1 = abs(calculerAngle(a,b,c) - pi/2)\n",
    "  ecartAngle2 = abs(calculerAngle(b,c,a) - pi/2)\n",
    "  ecartAngle3 = abs(calculerAngle(c,a,b) - pi/2)\n",
    "  ecartMax = max(ecartAngle1, ecartAngle2, ecartAngle3)\n",
    "\n",
    "  return ecartMax / (pi/2)\n",
    "\n",
    "# Qualité d'un ensemble de triangles \n",
    "def qualiteMaillageTri(triangles, points):\n",
    "  \"\"\"\n",
    "  Entrée: \n",
    "    - triangles de la forme Delaunay(points).simplices\n",
    "    - np.array des points du maillage\n",
    "  Sortie: float dans [0,1]\n",
    "\n",
    "  Calcule la qualité de tous les triangles et en fait la moyenne arithmétique\n",
    "  \"\"\"\n",
    "  sommeQualite = 0.0\n",
    "\n",
    "  for triangle in triangles:\n",
    "    sommeQualite += qualiteTriangle(points[triangle[0]], points[triangle[1]], points[triangle[2]])\n",
    "\n",
    "  return sommeQualite / len(triangles)\n",
    "\n",
    "###############################################################################\n",
    "# TESTS SUR LES EXEMPLES\n",
    "###############################################################################\n",
    "\n",
    "\n",
    "maillageExemplePoly = Delaunay(pointsPoly)\n",
    "maillageExempleCercle = Delaunay(pointsCercle)\n",
    "\n",
    "print \"Qualite du maillage pour le polygone : \"\n",
    "print qualiteMaillageTri(maillageExemplePoly.simplices, pointsPoly)\n",
    "\n",
    "print \"Qualité du maillage pour le cercle : \"\n",
    "print qualiteMaillageTri(maillageExempleCercle.simplices, pointsCercle)"
   ]
  },
  {
   "cell_type": "markdown",
   "metadata": {},
   "source": []
  }
 ],
 "metadata": {
  "colab": {
   "collapsed_sections": [],
   "name": "maillage2d-ter.ipynb",
   "provenance": [],
   "version": "0.3.2"
  },
  "kernelspec": {
   "display_name": "Python 2",
   "language": "python",
   "name": "python2"
  },
  "language_info": {
   "codemirror_mode": {
    "name": "ipython",
    "version": 2
   },
   "file_extension": ".py",
   "mimetype": "text/x-python",
   "name": "python",
   "nbconvert_exporter": "python",
   "pygments_lexer": "ipython2",
   "version": "2.7.16"
  }
 },
 "nbformat": 4,
 "nbformat_minor": 1
}
